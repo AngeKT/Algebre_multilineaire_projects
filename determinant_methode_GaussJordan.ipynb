{
 "cells": [
  {
   "cell_type": "markdown",
   "metadata": {
    "tags": []
   },
   "source": [
    "# Determinant of a matrix"
   ]
  },
  {
   "attachments": {},
   "cell_type": "markdown",
   "metadata": {},
   "source": [
    " Let's write a function det_gauss(A) which takes in argument a square matrix A and gives its determinant by the Gauss-Jordan elimination method."
   ]
  },
  {
   "cell_type": "code",
   "execution_count": 1,
   "metadata": {},
   "outputs": [],
   "source": [
    "import numpy as np"
   ]
  },
  {
   "cell_type": "markdown",
   "metadata": {},
   "source": [
    "Let's write first the needed functions for the elimination"
   ]
  },
  {
   "cell_type": "code",
   "execution_count": 2,
   "metadata": {},
   "outputs": [],
   "source": [
    "#This function will help us to find the right pivot for the given column\n",
    "def pivot_partiel(A,j):\n",
    "    n = len(A)\n",
    "    index = n\n",
    "    variable = n-1\n",
    "    for i in range(j+1, n):\n",
    "        if A[i][j]!=0:\n",
    "            if abs(A[i][j]) >= abs(A[variable][j]):\n",
    "                index = i\n",
    "                variable = index\n",
    "                break\n",
    "    return index\n",
    "     \n",
    "\n",
    "def echange_ligne(A,i,j):\n",
    "    intermediaire = A[i].copy()\n",
    "    A[i] = A[j]\n",
    "    A[j] = intermediaire\n",
    "    return A\n",
    "\n",
    "def transvection(A, i, j, alpha):\n",
    "    A[i] = A[i] - alpha * A[j]\n",
    "    return A"
   ]
  },
  {
   "cell_type": "markdown",
   "metadata": {},
   "source": [
    "Now, lets build our function!"
   ]
  },
  {
   "cell_type": "code",
   "execution_count": 3,
   "metadata": {},
   "outputs": [],
   "source": [
    "def det_gauss(A):\n",
    "    n = len(A)\n",
    "    count = 0\n",
    "    for j in range(n-1):\n",
    "        i = pivot_partiel(A,j)\n",
    "          \n",
    "        if i == n:\n",
    "            continue\n",
    "          \n",
    "        elif i > j:\n",
    "            echange_ligne(A, i, j)\n",
    "            count += 1     \n",
    "        \n",
    "        for k in range(j+1, n):\n",
    "            alpha = A[k][j]/A[j][j]\n",
    "            transvection(A, k, j, alpha)\n",
    "    \n",
    "    determinant = pow(-1, count) #Taking into account directly in the initialization the number of times we have swap rows\n",
    "    \n",
    "    for k in range(n):\n",
    "        determinant *= A[k][k] #And since we haven't multiplied a line before, we don't need to operate any division\n",
    "\n",
    "    return determinant"
   ]
  },
  {
   "cell_type": "markdown",
   "metadata": {},
   "source": [
    "Now let's test our code with this matrix $A=\\begin{pmatrix} 0 & 1 & 2 \\\\ 5 & 7 & 1 \\\\ 2 & -1 & 3 \\end{pmatrix}$"
   ]
  },
  {
   "cell_type": "code",
   "execution_count": 4,
   "metadata": {},
   "outputs": [
    {
     "data": {
      "text/plain": [
       "-51.0"
      ]
     },
     "execution_count": 4,
     "metadata": {},
     "output_type": "execute_result"
    }
   ],
   "source": [
    "A = np.array([[0, 1, 2], [5, 7, 1], [2, -1, 3]], dtype=float)\n",
    "det_gauss(A)"
   ]
  },
  {
   "cell_type": "markdown",
   "metadata": {},
   "source": [
    "        That is!"
   ]
  }
 ],
 "metadata": {
  "kernelspec": {
   "display_name": "Python 3 (ipykernel)",
   "language": "python",
   "name": "python3"
  },
  "language_info": {
   "codemirror_mode": {
    "name": "ipython",
    "version": 3
   },
   "file_extension": ".py",
   "mimetype": "text/x-python",
   "name": "python",
   "nbconvert_exporter": "python",
   "pygments_lexer": "ipython3",
   "version": "3.10.6"
  }
 },
 "nbformat": 4,
 "nbformat_minor": 2
}
