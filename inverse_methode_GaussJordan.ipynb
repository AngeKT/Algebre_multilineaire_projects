{
 "cells": [
  {
   "cell_type": "markdown",
   "metadata": {},
   "source": [
    "# Inverse of a matrix"
   ]
  },
  {
   "cell_type": "markdown",
   "metadata": {},
   "source": [
    "Let's write a function inverse(A) which gives the inverse of a square matrix A by the Gauss-Jordan elimination method "
   ]
  },
  {
   "cell_type": "code",
   "execution_count": 1,
   "metadata": {},
   "outputs": [],
   "source": [
    "import numpy as np"
   ]
  },
  {
   "cell_type": "markdown",
   "metadata": {},
   "source": [
    "First, let's write the needed functions"
   ]
  },
  {
   "cell_type": "code",
   "execution_count": 2,
   "metadata": {},
   "outputs": [],
   "source": [
    "#This function will help us to find the right pivot for the given column\n",
    "def pivot_partiel(A,j):\n",
    "    n = len(A)\n",
    "    index = n\n",
    "    variable = n-1\n",
    "    for i in range(j+1, n):\n",
    "        if A[i][j]!=0:\n",
    "            if abs(A[i][j]) >= abs(A[variable][j]):\n",
    "                index = i\n",
    "                variable = index\n",
    "                break\n",
    "    return index\n",
    "     \n",
    "\n",
    "def echange_ligne(A,i,j):\n",
    "    intermediaire = A[i].copy()\n",
    "    A[i] = A[j]\n",
    "    A[j] = intermediaire\n",
    "    return A\n",
    "\n",
    "def transvection(A, i, j, alpha):\n",
    "    A[i] = A[i] - alpha * A[j]\n",
    "    return A"
   ]
  },
  {
   "cell_type": "code",
   "execution_count": 40,
   "metadata": {},
   "outputs": [],
   "source": [
    "def inverse(A):\n",
    "    n = len(A)\n",
    "    I = np.eye(n) # Initializing the identity matrix of size n\n",
    "    for j in range(n-1):\n",
    "        i = pivot_partiel(A, j)\n",
    "       \n",
    "        if i == n:\n",
    "            continue\n",
    "        \n",
    "        elif i > j:\n",
    "            echange_ligne(A, i, j)  \n",
    "            echange_ligne(I, i, j)  \n",
    "        \n",
    "        \n",
    "        for k in range(j+1, n): #Here we scale the augmented matrix from top to bottom\n",
    "            alpha = A[k][j] / A[j][j]\n",
    "            transvection(A, k, j, alpha)\n",
    "            transvection(I, k, j, alpha)\n",
    "    \n",
    "    for l in range(n): #Here we normalize the element of the diagonal of A to 1\n",
    "        nbre = A[l][l]\n",
    "        A[l] /= nbre\n",
    "        I[l] /= nbre\n",
    "        \n",
    "    for p in range(n-1, -1, -1): #Here, we want to scale the augmented matrix from bottom to top\n",
    "        for q in range(p-1, -1, -1):\n",
    "            beta = A[q][p] / A[p][p]\n",
    "            transvection(A, q, p, beta)\n",
    "            transvection(I, q, p, beta)\n",
    "    return I"
   ]
  },
  {
   "cell_type": "markdown",
   "metadata": {},
   "source": [
    "Let's make a test with this matrix $A=\\begin{pmatrix} -2 & 4 & 2 & 0 \\\\ 5 & 10 & 6 & -1 \\\\ 2 & -1 & 3 & 8 \\\\ 31 & 3 & 2 & 3 \\end{pmatrix}$"
   ]
  },
  {
   "cell_type": "code",
   "execution_count": 41,
   "metadata": {},
   "outputs": [
    {
     "data": {
      "text/plain": [
       "array([[-0.05940023,  0.01499423, -0.00807382,  0.02652826],\n",
       "       [ 0.86851211, -0.28719723, -0.07612457,  0.10726644],\n",
       "       [-1.29642445,  0.5893887 ,  0.14417532, -0.18800461],\n",
       "       [ 0.60957324, -0.26066897,  0.06343714,  0.07727797]])"
      ]
     },
     "execution_count": 41,
     "metadata": {},
     "output_type": "execute_result"
    }
   ],
   "source": [
    "A = np.array([[-2, 4, 2, 0], [5, 10, 6, -1], [2, -1, 3, 8], [31, 3, 2, 3]], dtype=float)\n",
    "inverse(A)"
   ]
  },
  {
   "cell_type": "markdown",
   "metadata": {},
   "source": [
    "            That is!"
   ]
  }
 ],
 "metadata": {
  "kernelspec": {
   "display_name": "Python 3 (ipykernel)",
   "language": "python",
   "name": "python3"
  },
  "language_info": {
   "codemirror_mode": {
    "name": "ipython",
    "version": 3
   },
   "file_extension": ".py",
   "mimetype": "text/x-python",
   "name": "python",
   "nbconvert_exporter": "python",
   "pygments_lexer": "ipython3",
   "version": "3.10.6"
  }
 },
 "nbformat": 4,
 "nbformat_minor": 2
}
